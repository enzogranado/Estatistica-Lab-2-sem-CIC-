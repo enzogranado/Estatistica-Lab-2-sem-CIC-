{
 "cells": [
  {
   "cell_type": "markdown",
   "id": "2a9e7c98",
   "metadata": {},
   "source": [
    "# Laboratório de Estatística - Semana 1\n",
    "\n",
    "Este será o nosso primeiro contato na disciplina com a linguagem de programação Python. \n",
    "\n",
    "Não se preocupe em memorizar ou entender cada comando. O Python será a nossa calculadora para nos ajudar na resolução dos exercícios de Estatística, o foco do curso.\n",
    "\n",
    "Este notebook guiará você pelos conceitos básicos de manipulação de dados com Pandas, NumPy e visualização de dados com Matplotlib e Seaborn.\n",
    "\n",
    "## Objetivos\n",
    "- Importar dados de um arquivo CSV\n",
    "- Criar um DataFrame com dados fictícios e exibir as primeiras linhas.\n",
    "- Calcular a média e a soma das colunas do DataFrame.\n",
    "- Visualizar dados utilizando Matplotlib e Seaborn.\n",
    "- Realizar análise exploratória de dados com gráficos diversos, incluindo histograma, gráficos de linha, scatter plots, boxplots, pairplots e gráficos de Pareto.\n",
    "- Explorar as funções `df.describe()` e `df.info()`.\n",
    "\n",
    "Vamos começar!\n",
    "\n",
    "### Importação das Bibliotecas Necessárias\n",
    "Primeiro, precisamos importar as bibliotecas que usaremos: Pandas e Matplotlib.\n"
   ]
  },
  {
   "cell_type": "code",
   "execution_count": 1,
   "id": "83b1154d",
   "metadata": {},
   "outputs": [],
   "source": [
    "# Importando as bibliotecas necessárias\n",
    "import pandas as pd\n",
    "import numpy as np\n",
    "import matplotlib.pyplot as plt\n",
    "import seaborn as sns\n",
    "\n",
    "# Configuração para exibir os gráficos diretamente no notebook\n",
    "%matplotlib inline"
   ]
  },
  {
   "cell_type": "markdown",
   "id": "6aac5e34",
   "metadata": {},
   "source": [
    "### Criar um DataFrame com Dados Fictícios\n",
    "\n",
    "Vamos criar um DataFrame com alguns dados fictícios. Um DataFrame é uma estrutura de dados semelhante a uma tabela, onde podemos armazenar e manipular dados.\n",
    "\n",
    "```python\n",
    "# Criando um DataFrame com dados fictícios\n",
    "data = {\n",
    "    'Nome': ['Ana', 'Bruno', 'Carlos', 'Daniela', 'Eduardo'],\n",
    "    'Idade': [23, 35, 45, 22, 28],\n",
    "    'Salário': [50000, 60000, 80000, 45000, 52000]\n",
    "}\n",
    "\n",
    "df = pd.DataFrame(data)\n",
    "\n",
    "# Exibindo as primeiras linhas do DataFrame\n",
    "print(df.head())\n",
    "```"
   ]
  },
  {
   "cell_type": "code",
   "execution_count": null,
   "id": "291086dc",
   "metadata": {},
   "outputs": [],
   "source": []
  },
  {
   "cell_type": "code",
   "execution_count": 2,
   "id": "f8b4aba6",
   "metadata": {},
   "outputs": [
    {
     "data": {
      "text/html": [
       "<div>\n",
       "<style scoped>\n",
       "    .dataframe tbody tr th:only-of-type {\n",
       "        vertical-align: middle;\n",
       "    }\n",
       "\n",
       "    .dataframe tbody tr th {\n",
       "        vertical-align: top;\n",
       "    }\n",
       "\n",
       "    .dataframe thead th {\n",
       "        text-align: right;\n",
       "    }\n",
       "</style>\n",
       "<table border=\"1\" class=\"dataframe\">\n",
       "  <thead>\n",
       "    <tr style=\"text-align: right;\">\n",
       "      <th></th>\n",
       "      <th>Nome</th>\n",
       "      <th>Idade</th>\n",
       "      <th>Salario</th>\n",
       "    </tr>\n",
       "  </thead>\n",
       "  <tbody>\n",
       "    <tr>\n",
       "      <th>0</th>\n",
       "      <td>Ana</td>\n",
       "      <td>23</td>\n",
       "      <td>50000</td>\n",
       "    </tr>\n",
       "    <tr>\n",
       "      <th>1</th>\n",
       "      <td>Bruno</td>\n",
       "      <td>35</td>\n",
       "      <td>60000</td>\n",
       "    </tr>\n",
       "    <tr>\n",
       "      <th>2</th>\n",
       "      <td>Carlos</td>\n",
       "      <td>45</td>\n",
       "      <td>80000</td>\n",
       "    </tr>\n",
       "    <tr>\n",
       "      <th>3</th>\n",
       "      <td>Daniela</td>\n",
       "      <td>22</td>\n",
       "      <td>45000</td>\n",
       "    </tr>\n",
       "    <tr>\n",
       "      <th>4</th>\n",
       "      <td>Eduardo</td>\n",
       "      <td>28</td>\n",
       "      <td>52000</td>\n",
       "    </tr>\n",
       "  </tbody>\n",
       "</table>\n",
       "</div>"
      ],
      "text/plain": [
       "      Nome  Idade  Salario\n",
       "0      Ana     23    50000\n",
       "1    Bruno     35    60000\n",
       "2   Carlos     45    80000\n",
       "3  Daniela     22    45000\n",
       "4  Eduardo     28    52000"
      ]
     },
     "execution_count": 2,
     "metadata": {},
     "output_type": "execute_result"
    }
   ],
   "source": [
    "# Criando um DataFrame com dados fictícios\n",
    "data = {\n",
    "    'Nome': ['Ana', 'Bruno', 'Carlos', 'Daniela', 'Eduardo'],\n",
    "    'Idade': [23,35,45,22,28],\n",
    "    'Salario': [50000, 60000, 80000, 45000, 52000]\n",
    "}\n",
    "df = pd.DataFrame(data)\n",
    "# Exibindo as primeiras linhas do DataFrame\n",
    "df.head()\n",
    "df.tail() #mostra as ultimas linhas "
   ]
  },
  {
   "cell_type": "markdown",
   "id": "7bcc6427",
   "metadata": {},
   "source": [
    "### Calcular a Média e a Soma das Colunas do DataFrame\n",
    "\n",
    "Agora vamos calcular a média e a soma das colunas 'Idade' e 'Salário'.\n",
    "\n",
    "```python\n",
    "# Calculando a média\n",
    "media_idade = df['Idade'].mean()\n",
    "media_salario = df['Salário'].mean()\n",
    "\n",
    "# Calculando a soma\n",
    "soma_idade = df['Idade'].sum()\n",
    "soma_salario = df['Salário'].sum()\n",
    "\n",
    "print(f\"Média de Idade: {media_idade}\")\n",
    "print(f\"Média de Salário: {media_salario}\")\n",
    "print(f\"Soma de Idade: {soma_idade}\")\n",
    "print(f\"Soma de Salário: {soma_salario}\")\n",
    "```"
   ]
  },
  {
   "cell_type": "code",
   "execution_count": 4,
   "id": "e80b1e06",
   "metadata": {},
   "outputs": [
    {
     "name": "stdout",
     "output_type": "stream",
     "text": [
      "30.6\n",
      "153\n"
     ]
    }
   ],
   "source": [
    "# Calculando a média\n",
    "media_idade = df['Idade'].mean()\n",
    "print(media_idade)\n",
    "soma_idade = df['Idade'].sum()\n",
    "print(soma_idade)\n",
    "# Calculando a soma\n",
    "\n",
    "# Imprimindo os resultados\n"
   ]
  },
  {
   "cell_type": "markdown",
   "id": "a1e55dfc",
   "metadata": {},
   "source": [
    "### Criar um Histograma para uma das Colunas do DataFrame\n",
    "\n",
    "Vamos criar um histograma para a coluna 'Idade'.\n",
    "\n",
    "```python\n",
    "# Criando um histograma para a coluna 'Idade'\n",
    "plt.hist(df['Idade'], bins=5, edgecolor='black')\n",
    "plt.title('Histograma de Idade')\n",
    "plt.xlabel('Idade')\n",
    "plt.ylabel('Frequência')\n",
    "\n",
    "# Ajustando a escala do eixo x\n",
    "# range(start, stop, step): Gera uma sequência de números de start até stop - 1, incrementando por step\n",
    "plt.xticks(range(22, 45+1, 2))\n",
    "\n",
    "plt.show()\n",
    "```"
   ]
  },
  {
   "cell_type": "code",
   "execution_count": 3,
   "id": "8859ecf8",
   "metadata": {},
   "outputs": [
    {
     "data": {
      "image/png": "[encoded data removed]",
      "text/plain": [
       "<Figure size 640x480 with 1 Axes>"
      ]
     },
     "metadata": {},
     "output_type": "display_data"
    }
   ],
   "source": [
    "# Criando um histograma para a coluna 'Idade'\n",
    "plt.hist(df['Idade'], bins=4, edgecolor='black')\n",
    "plt.title('Teste de Nome')\n",
    "plt.xlabel('Idade')\n",
    "plt.ylabel('Frequencia')\n",
    "# Ajustando a escala do eixo x\n",
    "# range(start, stop, step): Gera uma sequência de números de start até stop - 1, incrementando por step\n",
    "plt.xticks(range(22, 45+1, 2))\n",
    "\n",
    "plt.show()\n"
   ]
  },
  {
   "cell_type": "markdown",
   "id": "77a60c9c",
   "metadata": {},
   "source": [
    "### Criar um Gráfico de Linha Utilizando Duas Colunas do DataFrame\n",
    "\n",
    "Agora, vamos criar um gráfico de linha usando as colunas 'Idade' e 'Salário'.\n",
    "\n",
    "```python\n",
    "# Criando um gráfico de linha\n",
    "plt.plot(df['Idade'], df['Salário'], marker='o')\n",
    "plt.title('Gráfico de Salário por Idade')\n",
    "plt.xlabel('Idade')\n",
    "plt.ylabel('Salário')\n",
    "plt.grid(True)\n",
    "plt.show()\n",
    "```"
   ]
  },
  {
   "cell_type": "code",
   "execution_count": 4,
   "id": "8bf58b2b",
   "metadata": {},
   "outputs": [
    {
     "data": {
      "image/png": "[encoded data removed]",
      "text/plain": [
       "<Figure size 640x480 with 1 Axes>"
      ]
     },
     "metadata": {},
     "output_type": "display_data"
    }
   ],
   "source": [
    "# Criar um Gráfico de Linha Utilizando Duas Colunas do DataFrame\n",
    "plt.plot(df['Idade'], df['Salario'], marker='o')\n",
    "plt.title('Grafico de Salario por Idade')\n",
    "plt.xlabel('Idade')\n",
    "plt.ylabel('Salario')\n",
    "plt.grid(True)\n",
    "plt.show()"
   ]
  },
  {
   "cell_type": "markdown",
   "id": "11adb607-fb02-4f68-bb5a-7c1536309644",
   "metadata": {},
   "source": [
    "### Ordenando os dados\n",
    "\n",
    "Observe que a linha desenhada no gráfico gerado não está crescendo de forma contínua. Isso ocorre devido aos dados de idade não estarem ordenados em ordem crescente.\n",
    "\n",
    "Para ordenar os valores no gráfico, você pode ordenar o DataFrame por uma das colunas antes de criar o gráfico. Neste caso, vamos ordenar o DataFrame pela coluna 'Idade'. Isso garantirá que as idades estejam em ordem crescente no gráfico, tornando-o mais fácil de interpretar.\n",
    "\n",
    "```python\n",
    "# Ordenando o DataFrame pela coluna 'Idade'\n",
    "df = df.sort_values(by='Idade')\n",
    "\n",
    "# Criar um Gráfico de Linha Utilizando Duas Colunas do DataFrame\n",
    "plt.plot(df['Idade'], df['Salário'], marker='o')\n",
    "plt.title('Gráfico de Salário por Idade')\n",
    "plt.xlabel('Idade')\n",
    "plt.ylabel('Salário')\n",
    "plt.grid(True)\n",
    "plt.show()\n",
    "```\n",
    "\n",
    "Esta é a linha responsável por ordenar o DataFrame pela coluna 'Idade' em ordem crescente. O comando sort_values(by='Idade') organiza o DataFrame de forma que as idades estejam em ordem crescente.\n",
    "\n",
    "```python\n",
    "df = df.sort_values(by='Idade')\n",
    "```\n",
    "\n",
    "Perceba que a alteração no DataFrame que fizemos foi permanente. Caso não queira perder o dado na sua forma original, você deve guardar as modificações em um DataFrame novo!"
   ]
  },
  {
   "cell_type": "code",
   "execution_count": 5,
   "id": "db0c1dc0-a494-43bc-8010-b0ea87383007",
   "metadata": {},
   "outputs": [
    {
     "data": {
      "image/png": "[encoded data removed]",
      "text/plain": [
       "<Figure size 640x480 with 1 Axes>"
      ]
     },
     "metadata": {},
     "output_type": "display_data"
    }
   ],
   "source": [
    "# Ordenando o DataFrame pela coluna 'Idade'\n",
    "df=df.sort_values(by='Idade')\n",
    "plt.plot(df['Idade'], df['Salario'], marker='o') #primeiro df para o X e o segundo df para o Y \n",
    "#marquer 'o' se refere ao ponto existente da intersecção entre x e y no gráfico\n",
    "plt.title('Grafico de Salário por Idade')\n",
    "plt.xlabel('Idade')\n",
    "plt.ylabel('Salario')\n",
    "plt.grid(True)\n",
    "plt.show()\n",
    "# Criar um Gráfico de Linha Utilizando Duas Colunas do DataFrame\n"
   ]
  },
  {
   "cell_type": "markdown",
   "id": "ebc664f6",
   "metadata": {},
   "source": [
    "## Scatter Plots\n",
    "Um scatter plot (ou gráfico de dispersão) é usado para visualizar a relação entre duas variáveis numéricas.\n",
    "No gráfico de dispersão, cada ponto representa uma observação dos dados com suas coordenadas determinadas pelos valores das duas variáveis.\n",
    "\n",
    "```Python\n",
    "# Criar um Gráfico de Pontos Utilizando Duas Colunas do DataFrame\n",
    "plt.scatter(df['Idade'], df['Salário'], marker='o')\n",
    "plt.title('Gráfico de Salário por Idade')\n",
    "plt.xlabel('Idade')\n",
    "plt.ylabel('Salário')\n",
    "plt.show()\n",
    "```"
   ]
  },
  {
   "cell_type": "code",
   "execution_count": null,
   "id": "266ccab5-0d69-4997-b133-85d9bb7f1b37",
   "metadata": {},
   "outputs": [],
   "source": [
    "# Criar um Gráfico de Pontos Utilizando Duas Colunas do DataFrame\n"
   ]
  },
  {
   "cell_type": "markdown",
   "id": "892c4045",
   "metadata": {},
   "source": [
    "## Criação de um boxplot\n",
    "Um boxplot (ou diagrama de bigode) é usado para visualizar a distribuição dos dados através de seus quartis.\n",
    "O boxplot mostra a mediana dos dados, os quartis superior e inferior, e possíveis outliers.\n",
    "\n",
    "```Python\n",
    "# Criar um Gráfico de Boxplot Utilizando uma Coluna do DataFrame\n",
    "sns.boxplot(x='Idade', data=df)\n",
    "plt.title('Boxplot da Idade')\n",
    "plt.show()\n",
    "```"
   ]
  },
  {
   "cell_type": "code",
   "execution_count": 11,
   "id": "69bb6eef",
   "metadata": {},
   "outputs": [
    {
     "data": {
      "image/png": "[encoded data removed]",
      "text/plain": [
       "<Figure size 640x480 with 1 Axes>"
      ]
     },
     "metadata": {},
     "output_type": "display_data"
    }
   ],
   "source": [
    "# Criar um Gráfico de Boxplot Utilizando uma Coluna do DataFrame\n",
    "sns.boxplot(x='Idade', data=df)\n",
    "plt.title('Boxplt da Idade')\n",
    "plt.show()"
   ]
  },
  {
   "cell_type": "markdown",
   "id": "3b018d21-8346-4e99-8b0f-6afc323b7bcf",
   "metadata": {},
   "source": [
    "## Criação de um pairplot\n",
    "\n",
    "Um pairplot (ou gráfico de pares) é uma visualização muito útil para analisar relações entre múltiplas variáveis em um DataFrame. Ele cria uma grade de gráficos, onde cada gráfico mostra a relação entre dois conjuntos de variáveis. Os gráficos na diagonal geralmente mostram a distribuição univariada (como histogramas) de cada variável, enquanto os gráficos fora da diagonal mostram as relações bivariadas (como scatter plots) entre as variáveis.\n",
    "\n",
    "### Utilização de um Pairplot\n",
    "Análise de Correlação: Um pairplot permite que você observe rapidamente como diferentes variáveis estão correlacionadas entre si. Você pode identificar padrões de correlação positiva, negativa ou ausência de correlação.\n",
    "\n",
    "- Distribuição dos Dados: A diagonal do pairplot exibe a distribuição de cada variável. Isso ajuda a entender a forma da distribuição (normal, enviesada, etc.).\n",
    "- Outliers e Agrupamentos: Você pode identificar outliers e possíveis agrupamentos de dados ao observar os scatter plots fora da diagonal.\n",
    "\n",
    "```Python\n",
    "# Criar um Gráfico de Pairplot Utilizando todo o DataFrame\n",
    "sns.pairplot(df)\n",
    "plt.show()\n",
    "```"
   ]
  },
  {
   "cell_type": "code",
   "execution_count": null,
   "id": "8e710c50",
   "metadata": {},
   "outputs": [],
   "source": [
    "# Criar um Gráfico de Pairplot Utilizando todo o DataFrame\n"
   ]
  },
  {
   "cell_type": "markdown",
   "id": "b0e65aff",
   "metadata": {},
   "source": [
    "## Criação de um gráfico de Pareto\n",
    "\n",
    "O gráfico de Pareto é uma combinação de um gráfico de barras e um gráfico de linha. Ele é usado para destacar os fatores mais significativos em um conjunto de dados, ordenando as barras em ordem decrescente e mostrando a frequência acumulada com uma linha.\n",
    "\n",
    "```Python\n",
    "# Criando um gráfico de Pareto\n",
    "frequencia = df['Nome'].value_counts()                                  # Frequência dos valores na coluna 'Nome'\n",
    "frequencia_acumulada = frequencia.cumsum()                              # Frequência acumulada\n",
    "frequencia_relativa = frequencia / frequencia.sum()                     # Frequência relativa (percentual)\n",
    "frequencia_relativa_acumulada = frequencia_acumulada / frequencia.sum() # Frequência relativa acumulada (percentual acumulado)\n",
    "\n",
    "# Define os eixos do gráfico\n",
    "fig, ax1 = plt.subplots()                         # Criar a figura e os eixos para o gráfico\n",
    "ax2 = ax1.twinx()                                 # Segundo eixo y que compartilha o mesmo eixo x (para a frequência acumulada)\n",
    "frequencia.plot(kind='bar', ax=ax1, color='blue') # Plotar o gráfico de barras da frequência\n",
    "frequencia_relativa_acumulada.plot(ax=ax2, color='red', marker='o', linestyle='-') # Plotar o gráfico de linha da f. acum. relativa\n",
    "\n",
    "# Define os rótulos\n",
    "ax1.set_xlabel('Nome') # Definir o rótulo do eixo x\n",
    "ax1.set_ylabel('Frequência') # Rótulo do eixo y para o gráfico de barras\n",
    "ax2.set_ylabel('Frequência Acumulada') # Rótulo do eixo y para o gráfico de linha\n",
    "plt.title('Gráfico de Pareto') # Título do gráfico\n",
    "\n",
    "# Mostrar o gráfico\n",
    "plt.show()\n",
    "```"
   ]
  },
  {
   "cell_type": "code",
   "execution_count": null,
   "id": "263e32a0",
   "metadata": {},
   "outputs": [],
   "source": [
    "# Criando um gráfico de Pareto\n",
    "\n",
    "# Define os eixos do gráfico\n",
    "\n",
    "# Define os rótulos\n",
    "\n",
    "# Mostrar o gráfico\n"
   ]
  },
  {
   "cell_type": "markdown",
   "id": "7a59c677",
   "metadata": {},
   "source": [
    "### Explorando as Funções `df.describe()` e `df.info()`\n",
    "\n",
    "Vamos explorar algumas funções úteis para obter informações sobre o DataFrame.\n",
    "\n",
    "```python\n",
    "# Exibindo estatísticas descritivas\n",
    "print(df.describe())\n",
    "\n",
    "# Exibindo informações do DataFrame\n",
    "print(df.info())\n",
    "```"
   ]
  },
  {
   "cell_type": "code",
   "execution_count": null,
   "id": "a60e39ef",
   "metadata": {},
   "outputs": [],
   "source": [
    "# Exibindo estatísticas descritivas\n"
   ]
  },
  {
   "cell_type": "code",
   "execution_count": null,
   "id": "02502624-cc36-452f-b32c-c3c97e82af09",
   "metadata": {},
   "outputs": [],
   "source": [
    "# Exibindo informações do DataFrame\n"
   ]
  },
  {
   "cell_type": "markdown",
   "id": "3605c232",
   "metadata": {},
   "source": [
    "# Leitura de arquivos de dados utilizando Pandas\n",
    "\n",
    "Nesta estapa iremos importar arquivos de dados do tipo CSV.\n",
    "\n",
    "O arquivo `'arquivo.csv'` está disponível no Canvas da disciplina.\n",
    "\n",
    "Faça o download do arquivo e coloque no mesmo diretório deste notebook Jupyter.\n",
    "\n",
    "```Python\n",
    "# Importa o arquico CSV\n",
    "df = pd.read_csv('arquivo.csv')\n",
    "```"
   ]
  },
  {
   "cell_type": "code",
   "execution_count": null,
   "id": "b14b1b50",
   "metadata": {},
   "outputs": [],
   "source": [
    "# Importa o arquico CSV\n"
   ]
  },
  {
   "cell_type": "markdown",
   "id": "b24d69e7",
   "metadata": {},
   "source": [
    "## Exibição das primeiras e últimas linhas do DataFrame\n",
    "Esta célula exibe as primeiras e últimas linhas do DataFrame para uma visão geral dos dados."
   ]
  },
  {
   "cell_type": "code",
   "execution_count": null,
   "id": "b8c89292",
   "metadata": {},
   "outputs": [],
   "source": [
    "# Exibindo as primeiras linhas\n",
    "\n",
    "# Exibindo as últimas linhas\n"
   ]
  },
  {
   "cell_type": "markdown",
   "id": "3c97fb10",
   "metadata": {},
   "source": [
    "## Resumo estatístico dos dados\n",
    "\n",
    "Esta célula exibe um resumo estatístico das colunas numéricas do DataFrame.\n",
    "\n",
    "```Python\n",
    "# Exibindo resumo estatístico\n",
    "print(\"Resumo estatístico do DataFrame:\")\n",
    "print(df.describe())\n",
    "```"
   ]
  },
  {
   "cell_type": "code",
   "execution_count": null,
   "id": "3491ddd5",
   "metadata": {},
   "outputs": [],
   "source": [
    "# Exibindo resumo estatístico\n"
   ]
  },
  {
   "cell_type": "markdown",
   "id": "aaeb066a",
   "metadata": {},
   "source": [
    "## Seleção de Dados\n",
    "\n",
    "Esta célula demonstra como selecionar uma coluna específica dos dados.\n",
    "\n",
    "```Python\n",
    "# Selecionando uma coluna específica\n",
    "coluna_selecionada = df['Idade']\n",
    "print(f\"Dados da coluna selecionada:\\n{coluna_selecionada}\")\n",
    "```"
   ]
  },
  {
   "cell_type": "code",
   "execution_count": null,
   "id": "b56dfaad",
   "metadata": {},
   "outputs": [],
   "source": [
    "# Selecionando uma coluna específica\n"
   ]
  },
  {
   "cell_type": "markdown",
   "id": "6ca45896-171f-436a-b3dc-b18bce73c023",
   "metadata": {},
   "source": [
    "## Filtro de Dados\n",
    "\n",
    "Esta célula demonstra como filtrar dados com base em uma condição.\n",
    "\n",
    "```Python\n",
    "# Filtrando dados que atendem a uma condição. No caso, idade maior que 25 anos.\n",
    "filtro = df[df['Idade'] > 25]\n",
    "print(f\"Dados filtrados (Idade > 25):\\n{filtro}\")\n",
    "```"
   ]
  },
  {
   "cell_type": "code",
   "execution_count": null,
   "id": "fdd5f1eb-ec79-40f1-b3c3-4f38a9ac2cbb",
   "metadata": {},
   "outputs": [],
   "source": [
    "# Filtrando dados que atendem a uma condição. No caso, idade maior que 25 anos.\n"
   ]
  },
  {
   "cell_type": "markdown",
   "id": "0183c2b9",
   "metadata": {},
   "source": [
    "# Criação e manipulação de DataFrames\n",
    "\n",
    "Esta célula demonstra como criar um DataFrame a partir de um dicionário.\n",
    "\n",
    "```Python\n",
    "# Criando um DataFrame\n",
    "data = {'coluna1': [1, 2], 'coluna2': [3, 4]}\n",
    "df = pd.DataFrame(data)\n",
    "print(\"DataFrame criado:\\n\", df)\n",
    "```"
   ]
  },
  {
   "cell_type": "code",
   "execution_count": null,
   "id": "c0996687",
   "metadata": {},
   "outputs": [],
   "source": [
    "# Criando um DataFrame\n"
   ]
  },
  {
   "cell_type": "markdown",
   "id": "46449635",
   "metadata": {},
   "source": [
    "## Operações Básicas\n",
    "\n",
    "Estas células mostram como adicionar e remover colunas em um DataFrame.\n",
    "\n",
    "```Python\n",
    "# Adicionar colunas\n",
    "df['nova_coluna'] = df['coluna1'] + df['coluna2']\n",
    "print(\"DataFrame após adicionar nova coluna:\\n\", df)\n",
    "\n",
    "# Remover colunas\n",
    "df.drop('coluna1', axis=1, inplace=True)\n",
    "print(\"DataFrame após remover a coluna 'coluna1':\\n\", df)\n",
    "```"
   ]
  },
  {
   "cell_type": "code",
   "execution_count": null,
   "id": "5b59b92e",
   "metadata": {},
   "outputs": [],
   "source": [
    "# Adicionar colunas\n",
    "\n",
    "# Remover colunas\n"
   ]
  },
  {
   "cell_type": "markdown",
   "id": "948d8bc8",
   "metadata": {},
   "source": [
    "## Cálculo de estatísticas descritivas básicas\n",
    "\n",
    "Estas células mostram como calcular a descrição, a média e a soma das colunas do DataFrame.\n",
    "\n",
    "```Python\n",
    "# Descrição\n",
    "print(\"Descrição do DataFrame:\\n\", df.describe())\n",
    "\n",
    "# Média\n",
    "print(\"Média das colunas do DataFrame:\\n\", df.mean())\n",
    "\n",
    "# Soma\n",
    "print(\"Soma das colunas do DataFrame:\\n\", df.sum())\n",
    "```"
   ]
  },
  {
   "cell_type": "code",
   "execution_count": null,
   "id": "ae6456c0",
   "metadata": {},
   "outputs": [],
   "source": [
    "# Descrição\n",
    "\n",
    "# Média\n",
    "\n",
    "# Soma\n"
   ]
  }
 ],
 "metadata": {
  "kernelspec": {
   "display_name": "Python 3",
   "language": "python",
   "name": "python3"
  },
  "language_info": {
   "codemirror_mode": {
    "name": "ipython",
    "version": 3
   },
   "file_extension": ".py",
   "mimetype": "text/x-python",
   "name": "python",
   "nbconvert_exporter": "python",
   "pygments_lexer": "ipython3",
   "version": "3.13.2"
  }
 },
 "nbformat": 4,
 "nbformat_minor": 5
}
